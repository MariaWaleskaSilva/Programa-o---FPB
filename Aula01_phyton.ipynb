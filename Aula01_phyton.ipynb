{
  "nbformat": 4,
  "nbformat_minor": 0,
  "metadata": {
    "colab": {
      "provenance": [],
      "authorship_tag": "ABX9TyNRiQNxN1NfYOLisU6uLcrO",
      "include_colab_link": true
    },
    "kernelspec": {
      "name": "python3",
      "display_name": "Python 3"
    },
    "language_info": {
      "name": "python"
    }
  },
  "cells": [
    {
      "cell_type": "markdown",
      "metadata": {
        "id": "view-in-github",
        "colab_type": "text"
      },
      "source": [
        "<a href=\"https://colab.research.google.com/github/MariaWaleskaSilva/Programa-o---FPB/blob/main/Aula01_phyton.ipynb\" target=\"_parent\"><img src=\"https://colab.research.google.com/assets/colab-badge.svg\" alt=\"Open In Colab\"/></a>"
      ]
    },
    {
      "cell_type": "code",
      "execution_count": null,
      "metadata": {
        "colab": {
          "base_uri": "https://localhost:8080/"
        },
        "id": "4Vb9sUVEvvRQ",
        "outputId": "6f274e46-6fd0-4a16-df82-fa957164b321"
      },
      "outputs": [
        {
          "output_type": "stream",
          "name": "stdout",
          "text": [
            "eu vou programar geral!\n"
          ]
        }
      ],
      "source": [
        "print(\"eu vou programar geral!\") "
      ]
    },
    {
      "cell_type": "code",
      "source": [
        "a = 20\n",
        "b = 35\n",
        "soma = a + b\n",
        "subtracao = a - b\n",
        "divisao = a - b\n",
        "mutipli = a * b\n"
      ],
      "metadata": {
        "id": "kA7X0vcdyN8P"
      },
      "execution_count": null,
      "outputs": []
    },
    {
      "cell_type": "code",
      "source": [
        "print(soma)\n",
        "print(subtracao)\n",
        "print(divisao)\n",
        "print(mutipli)\n",
        "\n",
        "\n"
      ],
      "metadata": {
        "colab": {
          "base_uri": "https://localhost:8080/"
        },
        "id": "IO5ofoqHyqK9",
        "outputId": "cf03ae33-1d38-4023-83e0-5ffb7dd47859"
      },
      "execution_count": null,
      "outputs": [
        {
          "output_type": "stream",
          "name": "stdout",
          "text": [
            "55\n",
            "-15\n",
            "-15\n",
            "700\n"
          ]
        }
      ]
    },
    {
      "cell_type": "code",
      "source": [
        "# dobro\n",
        "num = 83\n",
        "print (num* 2)"
      ],
      "metadata": {
        "colab": {
          "base_uri": "https://localhost:8080/"
        },
        "id": "xpWmTMlH0jn7",
        "outputId": "27d9ec3f-d4cd-4041-e6d5-0747abb9aadd"
      },
      "execution_count": null,
      "outputs": [
        {
          "output_type": "stream",
          "name": "stdout",
          "text": [
            "166\n"
          ]
        }
      ]
    },
    {
      "cell_type": "code",
      "source": [
        "#media\n",
        "n1 = 9\n",
        "n2 = 9.2\n",
        "n3 = 8\n",
        "media = n1+n2+n3/3\n",
        "print(media)"
      ],
      "metadata": {
        "colab": {
          "base_uri": "https://localhost:8080/"
        },
        "id": "oy79C00a1ECD",
        "outputId": "95d6e25a-a1d3-4f26-ba4a-399a0acc9bd7"
      },
      "execution_count": null,
      "outputs": [
        {
          "output_type": "stream",
          "name": "stdout",
          "text": [
            "20.866666666666667\n"
          ]
        }
      ]
    },
    {
      "cell_type": "code",
      "source": [
        "#idade\n",
        "data = 2005\n",
        "print(2023 - 2005)"
      ],
      "metadata": {
        "colab": {
          "base_uri": "https://localhost:8080/"
        },
        "id": "drfbRjqX1nVg",
        "outputId": "b3a2540a-ad85-49ae-f42c-6385c76d0ca0"
      },
      "execution_count": null,
      "outputs": [
        {
          "output_type": "stream",
          "name": "stdout",
          "text": [
            "18\n"
          ]
        }
      ]
    },
    {
      "cell_type": "code",
      "source": [
        "#Trabalhando com INPUTS\n",
        "nome = input(\"Digite seu nome\")\n",
        "print(\"Ola\"+nome)\n"
      ],
      "metadata": {
        "colab": {
          "base_uri": "https://localhost:8080/"
        },
        "id": "qIl3xj3A1oET",
        "outputId": "aaebf40a-90f5-4fd3-8e7c-8fc7fd0e4817"
      },
      "execution_count": null,
      "outputs": [
        {
          "output_type": "stream",
          "name": "stdout",
          "text": [
            "Digite seu nomeWaleska\n",
            "OlaWaleska\n"
          ]
        }
      ]
    },
    {
      "cell_type": "code",
      "source": [
        "#multiplicacao\n",
        "number = 63\n",
        "mutipli =  number * 3\n",
        "print(mutipli)"
      ],
      "metadata": {
        "colab": {
          "base_uri": "https://localhost:8080/"
        },
        "id": "i3k0VIaN3Vb5",
        "outputId": "61a5a4ba-fa1e-4001-cba3-ca828b695a9c"
      },
      "execution_count": null,
      "outputs": [
        {
          "output_type": "stream",
          "name": "stdout",
          "text": [
            "189\n"
          ]
        }
      ]
    },
    {
      "cell_type": "code",
      "source": [
        "#mutiplicacao INPUYT\n",
        "num = int(input(\"Resultado\"))\n",
        "print(num*3)"
      ],
      "metadata": {
        "colab": {
          "base_uri": "https://localhost:8080/"
        },
        "id": "9FwicnYf5WO5",
        "outputId": "dae93506-ad9b-4a1a-a48b-1b948840fad0"
      },
      "execution_count": 37,
      "outputs": [
        {
          "output_type": "stream",
          "name": "stdout",
          "text": [
            "Resultado6\n",
            "18\n"
          ]
        }
      ]
    },
    {
      "cell_type": "code",
      "source": [],
      "metadata": {
        "id": "gPk0X6Xu54iz"
      },
      "execution_count": null,
      "outputs": []
    }
  ]
}